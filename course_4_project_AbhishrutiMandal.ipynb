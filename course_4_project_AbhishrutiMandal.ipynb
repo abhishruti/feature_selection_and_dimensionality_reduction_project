{
  "nbformat": 4,
  "nbformat_minor": 0,
  "metadata": {
    "colab": {
      "name": "course_4_project_AbhishrutiMandal.ipynb",
      "provenance": []
    },
    "kernelspec": {
      "display_name": "Python 3",
      "name": "python3"
    },
    "language_info": {
      "name": "python"
    }
  },
  "cells": [
    {
      "cell_type": "markdown",
      "metadata": {
        "id": "FMflYgLrTpA3"
      },
      "source": [
        "# Course 4 Project"
      ]
    },
    {
      "cell_type": "markdown",
      "metadata": {
        "id": "XXZ1ram8Ts9f"
      },
      "source": [
        "### Tasks to do"
      ]
    },
    {
      "cell_type": "markdown",
      "metadata": {
        "id": "U3m1FkoIjxnc"
      },
      "source": [
        "* Check the correlation matrix and identify most correlated features.\n",
        "\n",
        "* Find out the Covariance Matrix? Also Identify eigen values and eigen vectors of covariance matrix.\n",
        "\n",
        "* Find out the two most important Principal Components.\n",
        "Select only 8 features using PCA."
      ]
    },
    {
      "cell_type": "code",
      "metadata": {
        "id": "rSgJRmZgfBqc"
      },
      "source": [
        "# importing the necessary libraries\n",
        "\n",
        "import pandas as pd\n",
        "import numpy as np\n",
        "\n",
        "import matplotlib.pyplot as plt\n",
        "import seaborn as sns\n",
        "\n",
        "from sklearn.preprocessing import LabelEncoder, StandardScaler\n",
        "\n",
        "from sklearn.decomposition import PCA\n",
        "\n",
        "\n",
        "import warnings\n",
        "warnings.filterwarnings('ignore')"
      ],
      "execution_count": 88,
      "outputs": []
    },
    {
      "cell_type": "code",
      "metadata": {
        "colab": {
          "base_uri": "https://localhost:8080/",
          "height": 0
        },
        "id": "gmtPg73T3iHs",
        "outputId": "323652f5-4857-4462-be6b-ff4097dacfd7"
      },
      "source": [
        "# extracting dataset from the zip file\n",
        "\n",
        "!unzip \"/content/Problem Statement - Dimentionality Reduction-Dataset.zip\" -d \"/content/\""
      ],
      "execution_count": 11,
      "outputs": [
        {
          "output_type": "stream",
          "name": "stdout",
          "text": [
            "Archive:  /content/Problem Statement - Dimentionality Reduction-Dataset.zip\n",
            "  inflating: /content/Problem Statement - Dimentionality Reduction-Dataset.csv  \n"
          ]
        }
      ]
    },
    {
      "cell_type": "code",
      "metadata": {
        "id": "i4O72zWs3kY9"
      },
      "source": [
        "# loading dataset\n",
        "\n",
        "df = pd.read_csv('/content/Problem Statement - Dimentionality Reduction-Dataset.csv')"
      ],
      "execution_count": 33,
      "outputs": []
    },
    {
      "cell_type": "code",
      "metadata": {
        "colab": {
          "base_uri": "https://localhost:8080/",
          "height": 0
        },
        "id": "f7CeJA613u3c",
        "outputId": "5050ec08-a32b-41f5-d282-dfe9398588fd"
      },
      "source": [
        "# displaying the number of rows and number of columns\n",
        "\n",
        "print(\"No. of rows: \", df.shape[0])\n",
        "print(\"No. of columns: \", df.shape[1])"
      ],
      "execution_count": 34,
      "outputs": [
        {
          "output_type": "stream",
          "name": "stdout",
          "text": [
            "No. of rows:  550068\n",
            "No. of columns:  12\n"
          ]
        }
      ]
    },
    {
      "cell_type": "code",
      "metadata": {
        "colab": {
          "base_uri": "https://localhost:8080/",
          "height": 295
        },
        "id": "ZpGlgtSa37RQ",
        "outputId": "aed44482-b338-465b-a5ad-a829cacee432"
      },
      "source": [
        "# printing the first five rows\n",
        "df.head()"
      ],
      "execution_count": 35,
      "outputs": [
        {
          "output_type": "execute_result",
          "data": {
            "text/html": [
              "<div>\n",
              "<style scoped>\n",
              "    .dataframe tbody tr th:only-of-type {\n",
              "        vertical-align: middle;\n",
              "    }\n",
              "\n",
              "    .dataframe tbody tr th {\n",
              "        vertical-align: top;\n",
              "    }\n",
              "\n",
              "    .dataframe thead th {\n",
              "        text-align: right;\n",
              "    }\n",
              "</style>\n",
              "<table border=\"1\" class=\"dataframe\">\n",
              "  <thead>\n",
              "    <tr style=\"text-align: right;\">\n",
              "      <th></th>\n",
              "      <th>User_ID</th>\n",
              "      <th>Product_ID</th>\n",
              "      <th>Gender</th>\n",
              "      <th>Age</th>\n",
              "      <th>Occupation</th>\n",
              "      <th>City_Category</th>\n",
              "      <th>Stay_In_Current_City_Years</th>\n",
              "      <th>Marital_Status</th>\n",
              "      <th>Product_Category_1</th>\n",
              "      <th>Product_Category_2</th>\n",
              "      <th>Product_Category_3</th>\n",
              "      <th>Purchase</th>\n",
              "    </tr>\n",
              "  </thead>\n",
              "  <tbody>\n",
              "    <tr>\n",
              "      <th>0</th>\n",
              "      <td>1000001</td>\n",
              "      <td>P00069042</td>\n",
              "      <td>F</td>\n",
              "      <td>0-17</td>\n",
              "      <td>10</td>\n",
              "      <td>A</td>\n",
              "      <td>2</td>\n",
              "      <td>0</td>\n",
              "      <td>3</td>\n",
              "      <td>NaN</td>\n",
              "      <td>NaN</td>\n",
              "      <td>8370</td>\n",
              "    </tr>\n",
              "    <tr>\n",
              "      <th>1</th>\n",
              "      <td>1000001</td>\n",
              "      <td>P00248942</td>\n",
              "      <td>F</td>\n",
              "      <td>0-17</td>\n",
              "      <td>10</td>\n",
              "      <td>A</td>\n",
              "      <td>2</td>\n",
              "      <td>0</td>\n",
              "      <td>1</td>\n",
              "      <td>6.0</td>\n",
              "      <td>14.0</td>\n",
              "      <td>15200</td>\n",
              "    </tr>\n",
              "    <tr>\n",
              "      <th>2</th>\n",
              "      <td>1000001</td>\n",
              "      <td>P00087842</td>\n",
              "      <td>F</td>\n",
              "      <td>0-17</td>\n",
              "      <td>10</td>\n",
              "      <td>A</td>\n",
              "      <td>2</td>\n",
              "      <td>0</td>\n",
              "      <td>12</td>\n",
              "      <td>NaN</td>\n",
              "      <td>NaN</td>\n",
              "      <td>1422</td>\n",
              "    </tr>\n",
              "    <tr>\n",
              "      <th>3</th>\n",
              "      <td>1000001</td>\n",
              "      <td>P00085442</td>\n",
              "      <td>F</td>\n",
              "      <td>0-17</td>\n",
              "      <td>10</td>\n",
              "      <td>A</td>\n",
              "      <td>2</td>\n",
              "      <td>0</td>\n",
              "      <td>12</td>\n",
              "      <td>14.0</td>\n",
              "      <td>NaN</td>\n",
              "      <td>1057</td>\n",
              "    </tr>\n",
              "    <tr>\n",
              "      <th>4</th>\n",
              "      <td>1000002</td>\n",
              "      <td>P00285442</td>\n",
              "      <td>M</td>\n",
              "      <td>55+</td>\n",
              "      <td>16</td>\n",
              "      <td>C</td>\n",
              "      <td>4+</td>\n",
              "      <td>0</td>\n",
              "      <td>8</td>\n",
              "      <td>NaN</td>\n",
              "      <td>NaN</td>\n",
              "      <td>7969</td>\n",
              "    </tr>\n",
              "  </tbody>\n",
              "</table>\n",
              "</div>"
            ],
            "text/plain": [
              "   User_ID Product_ID Gender  ... Product_Category_2  Product_Category_3 Purchase\n",
              "0  1000001  P00069042      F  ...                NaN                 NaN     8370\n",
              "1  1000001  P00248942      F  ...                6.0                14.0    15200\n",
              "2  1000001  P00087842      F  ...                NaN                 NaN     1422\n",
              "3  1000001  P00085442      F  ...               14.0                 NaN     1057\n",
              "4  1000002  P00285442      M  ...                NaN                 NaN     7969\n",
              "\n",
              "[5 rows x 12 columns]"
            ]
          },
          "metadata": {},
          "execution_count": 35
        }
      ]
    },
    {
      "cell_type": "code",
      "metadata": {
        "colab": {
          "base_uri": "https://localhost:8080/",
          "height": 295
        },
        "id": "jEj2hY3c3-2o",
        "outputId": "f9b78ac2-e2b9-4367-81cd-09ffebfb48ae"
      },
      "source": [
        "# printing the last five rows\n",
        "df.tail()"
      ],
      "execution_count": 36,
      "outputs": [
        {
          "output_type": "execute_result",
          "data": {
            "text/html": [
              "<div>\n",
              "<style scoped>\n",
              "    .dataframe tbody tr th:only-of-type {\n",
              "        vertical-align: middle;\n",
              "    }\n",
              "\n",
              "    .dataframe tbody tr th {\n",
              "        vertical-align: top;\n",
              "    }\n",
              "\n",
              "    .dataframe thead th {\n",
              "        text-align: right;\n",
              "    }\n",
              "</style>\n",
              "<table border=\"1\" class=\"dataframe\">\n",
              "  <thead>\n",
              "    <tr style=\"text-align: right;\">\n",
              "      <th></th>\n",
              "      <th>User_ID</th>\n",
              "      <th>Product_ID</th>\n",
              "      <th>Gender</th>\n",
              "      <th>Age</th>\n",
              "      <th>Occupation</th>\n",
              "      <th>City_Category</th>\n",
              "      <th>Stay_In_Current_City_Years</th>\n",
              "      <th>Marital_Status</th>\n",
              "      <th>Product_Category_1</th>\n",
              "      <th>Product_Category_2</th>\n",
              "      <th>Product_Category_3</th>\n",
              "      <th>Purchase</th>\n",
              "    </tr>\n",
              "  </thead>\n",
              "  <tbody>\n",
              "    <tr>\n",
              "      <th>550063</th>\n",
              "      <td>1006033</td>\n",
              "      <td>P00372445</td>\n",
              "      <td>M</td>\n",
              "      <td>51-55</td>\n",
              "      <td>13</td>\n",
              "      <td>B</td>\n",
              "      <td>1</td>\n",
              "      <td>1</td>\n",
              "      <td>20</td>\n",
              "      <td>NaN</td>\n",
              "      <td>NaN</td>\n",
              "      <td>368</td>\n",
              "    </tr>\n",
              "    <tr>\n",
              "      <th>550064</th>\n",
              "      <td>1006035</td>\n",
              "      <td>P00375436</td>\n",
              "      <td>F</td>\n",
              "      <td>26-35</td>\n",
              "      <td>1</td>\n",
              "      <td>C</td>\n",
              "      <td>3</td>\n",
              "      <td>0</td>\n",
              "      <td>20</td>\n",
              "      <td>NaN</td>\n",
              "      <td>NaN</td>\n",
              "      <td>371</td>\n",
              "    </tr>\n",
              "    <tr>\n",
              "      <th>550065</th>\n",
              "      <td>1006036</td>\n",
              "      <td>P00375436</td>\n",
              "      <td>F</td>\n",
              "      <td>26-35</td>\n",
              "      <td>15</td>\n",
              "      <td>B</td>\n",
              "      <td>4+</td>\n",
              "      <td>1</td>\n",
              "      <td>20</td>\n",
              "      <td>NaN</td>\n",
              "      <td>NaN</td>\n",
              "      <td>137</td>\n",
              "    </tr>\n",
              "    <tr>\n",
              "      <th>550066</th>\n",
              "      <td>1006038</td>\n",
              "      <td>P00375436</td>\n",
              "      <td>F</td>\n",
              "      <td>55+</td>\n",
              "      <td>1</td>\n",
              "      <td>C</td>\n",
              "      <td>2</td>\n",
              "      <td>0</td>\n",
              "      <td>20</td>\n",
              "      <td>NaN</td>\n",
              "      <td>NaN</td>\n",
              "      <td>365</td>\n",
              "    </tr>\n",
              "    <tr>\n",
              "      <th>550067</th>\n",
              "      <td>1006039</td>\n",
              "      <td>P00371644</td>\n",
              "      <td>F</td>\n",
              "      <td>46-50</td>\n",
              "      <td>0</td>\n",
              "      <td>B</td>\n",
              "      <td>4+</td>\n",
              "      <td>1</td>\n",
              "      <td>20</td>\n",
              "      <td>NaN</td>\n",
              "      <td>NaN</td>\n",
              "      <td>490</td>\n",
              "    </tr>\n",
              "  </tbody>\n",
              "</table>\n",
              "</div>"
            ],
            "text/plain": [
              "        User_ID Product_ID  ... Product_Category_3 Purchase\n",
              "550063  1006033  P00372445  ...                NaN      368\n",
              "550064  1006035  P00375436  ...                NaN      371\n",
              "550065  1006036  P00375436  ...                NaN      137\n",
              "550066  1006038  P00375436  ...                NaN      365\n",
              "550067  1006039  P00371644  ...                NaN      490\n",
              "\n",
              "[5 rows x 12 columns]"
            ]
          },
          "metadata": {},
          "execution_count": 36
        }
      ]
    },
    {
      "cell_type": "code",
      "metadata": {
        "colab": {
          "base_uri": "https://localhost:8080/",
          "height": 0
        },
        "id": "ulO6gdVEpK7B",
        "outputId": "d01bf722-5910-43b7-8709-fb042ec9a5ba"
      },
      "source": [
        "# number of unique categories in each columns\n",
        "df.nunique()"
      ],
      "execution_count": 37,
      "outputs": [
        {
          "output_type": "execute_result",
          "data": {
            "text/plain": [
              "User_ID                        5891\n",
              "Product_ID                     3631\n",
              "Gender                            2\n",
              "Age                               7\n",
              "Occupation                       21\n",
              "City_Category                     3\n",
              "Stay_In_Current_City_Years        5\n",
              "Marital_Status                    2\n",
              "Product_Category_1               20\n",
              "Product_Category_2               17\n",
              "Product_Category_3               15\n",
              "Purchase                      18105\n",
              "dtype: int64"
            ]
          },
          "metadata": {},
          "execution_count": 37
        }
      ]
    },
    {
      "cell_type": "markdown",
      "metadata": {
        "id": "u1A_Pedmpo3G"
      },
      "source": [
        "### Feature engineering"
      ]
    },
    {
      "cell_type": "markdown",
      "metadata": {
        "id": "9g4A-OLiJCKa"
      },
      "source": [
        "Handling Missing values"
      ]
    },
    {
      "cell_type": "code",
      "metadata": {
        "colab": {
          "base_uri": "https://localhost:8080/",
          "height": 0
        },
        "id": "Zv7nm-aSJDvA",
        "outputId": "6b593032-27da-4a1f-d72a-bee8fb789771"
      },
      "source": [
        "# checking for the missing values\n",
        "\n",
        "print(\"No. of missing values in each columns: \\n\")\n",
        "print(df.isnull().sum())"
      ],
      "execution_count": 38,
      "outputs": [
        {
          "output_type": "stream",
          "name": "stdout",
          "text": [
            "No. of missing values in each columns: \n",
            "\n",
            "User_ID                            0\n",
            "Product_ID                         0\n",
            "Gender                             0\n",
            "Age                                0\n",
            "Occupation                         0\n",
            "City_Category                      0\n",
            "Stay_In_Current_City_Years         0\n",
            "Marital_Status                     0\n",
            "Product_Category_1                 0\n",
            "Product_Category_2            173638\n",
            "Product_Category_3            383247\n",
            "Purchase                           0\n",
            "dtype: int64\n"
          ]
        }
      ]
    },
    {
      "cell_type": "code",
      "metadata": {
        "id": "xRdGNaarJGmU"
      },
      "source": [
        "# imputing missing values with median\n",
        "\n",
        "df[\"Product_Category_2\"].fillna(df[\"Product_Category_2\"].median(), inplace=True)\n",
        "df[\"Product_Category_3\"].fillna(df[\"Product_Category_3\"].median(), inplace=True)"
      ],
      "execution_count": 39,
      "outputs": []
    },
    {
      "cell_type": "markdown",
      "metadata": {
        "id": "wSRrwFaZpsZq"
      },
      "source": [
        "extracting features from Product_ID"
      ]
    },
    {
      "cell_type": "code",
      "metadata": {
        "id": "WaU190SVpeDq"
      },
      "source": [
        "df['Product_ID_feature'] = df['Product_ID'].apply(lambda x : x.split('P')[1])"
      ],
      "execution_count": 40,
      "outputs": []
    },
    {
      "cell_type": "code",
      "metadata": {
        "id": "tfy4tiKx667Z"
      },
      "source": [
        "df['Product_ID_feature'] = df['Product_ID_feature'].astype(int)"
      ],
      "execution_count": 41,
      "outputs": []
    },
    {
      "cell_type": "code",
      "metadata": {
        "colab": {
          "base_uri": "https://localhost:8080/",
          "height": 205
        },
        "id": "lq35txYLqjyd",
        "outputId": "4f62738f-2c16-4f82-fc81-02b343ac3570"
      },
      "source": [
        "df[['Product_ID', 'Product_ID_feature']].head(5)"
      ],
      "execution_count": 42,
      "outputs": [
        {
          "output_type": "execute_result",
          "data": {
            "text/html": [
              "<div>\n",
              "<style scoped>\n",
              "    .dataframe tbody tr th:only-of-type {\n",
              "        vertical-align: middle;\n",
              "    }\n",
              "\n",
              "    .dataframe tbody tr th {\n",
              "        vertical-align: top;\n",
              "    }\n",
              "\n",
              "    .dataframe thead th {\n",
              "        text-align: right;\n",
              "    }\n",
              "</style>\n",
              "<table border=\"1\" class=\"dataframe\">\n",
              "  <thead>\n",
              "    <tr style=\"text-align: right;\">\n",
              "      <th></th>\n",
              "      <th>Product_ID</th>\n",
              "      <th>Product_ID_feature</th>\n",
              "    </tr>\n",
              "  </thead>\n",
              "  <tbody>\n",
              "    <tr>\n",
              "      <th>0</th>\n",
              "      <td>P00069042</td>\n",
              "      <td>69042</td>\n",
              "    </tr>\n",
              "    <tr>\n",
              "      <th>1</th>\n",
              "      <td>P00248942</td>\n",
              "      <td>248942</td>\n",
              "    </tr>\n",
              "    <tr>\n",
              "      <th>2</th>\n",
              "      <td>P00087842</td>\n",
              "      <td>87842</td>\n",
              "    </tr>\n",
              "    <tr>\n",
              "      <th>3</th>\n",
              "      <td>P00085442</td>\n",
              "      <td>85442</td>\n",
              "    </tr>\n",
              "    <tr>\n",
              "      <th>4</th>\n",
              "      <td>P00285442</td>\n",
              "      <td>285442</td>\n",
              "    </tr>\n",
              "  </tbody>\n",
              "</table>\n",
              "</div>"
            ],
            "text/plain": [
              "  Product_ID  Product_ID_feature\n",
              "0  P00069042               69042\n",
              "1  P00248942              248942\n",
              "2  P00087842               87842\n",
              "3  P00085442               85442\n",
              "4  P00285442              285442"
            ]
          },
          "metadata": {},
          "execution_count": 42
        }
      ]
    },
    {
      "cell_type": "markdown",
      "metadata": {
        "id": "ycurbBGFq63P"
      },
      "source": [
        "Label encoding Gender"
      ]
    },
    {
      "cell_type": "code",
      "metadata": {
        "colab": {
          "base_uri": "https://localhost:8080/",
          "height": 0
        },
        "id": "XBAmBGZAsBDu",
        "outputId": "e1944693-012f-4fcb-b3d0-af0332f3c2a5"
      },
      "source": [
        "df['Gender'].value_counts()"
      ],
      "execution_count": 43,
      "outputs": [
        {
          "output_type": "execute_result",
          "data": {
            "text/plain": [
              "M    414259\n",
              "F    135809\n",
              "Name: Gender, dtype: int64"
            ]
          },
          "metadata": {},
          "execution_count": 43
        }
      ]
    },
    {
      "cell_type": "code",
      "metadata": {
        "id": "nhBm69oerQyb"
      },
      "source": [
        "label_encoder = LabelEncoder()\n",
        "\n",
        "df['Gender_encoded'] = label_encoder.fit_transform(df['Gender'])"
      ],
      "execution_count": 44,
      "outputs": []
    },
    {
      "cell_type": "markdown",
      "metadata": {
        "id": "F14lajlDsXHx"
      },
      "source": [
        "Extracting feature from Age"
      ]
    },
    {
      "cell_type": "code",
      "metadata": {
        "colab": {
          "base_uri": "https://localhost:8080/",
          "height": 0
        },
        "id": "Yyl74HDktDvk",
        "outputId": "e2fa40bf-ca30-4479-bf95-565980a3f019"
      },
      "source": [
        "# checking the data in the Age column\n",
        "df['Age'].head()"
      ],
      "execution_count": 45,
      "outputs": [
        {
          "output_type": "execute_result",
          "data": {
            "text/plain": [
              "0    0-17\n",
              "1    0-17\n",
              "2    0-17\n",
              "3    0-17\n",
              "4     55+\n",
              "Name: Age, dtype: object"
            ]
          },
          "metadata": {},
          "execution_count": 45
        }
      ]
    },
    {
      "cell_type": "code",
      "metadata": {
        "id": "5x41EO_h1EgT"
      },
      "source": [
        "# extracting minimum age and maximum age from the given range\n",
        "df['min_age'] = 0\n",
        "df['max_age'] = 0\n",
        "\n",
        "for i, records in enumerate(df['Age']):\n",
        "  for element in records:\n",
        "    if element == '-':\n",
        "      df['min_age'][i] = df['Age'][i].split('-')[0]\n",
        "      df['max_age'][i] = df['Age'][i].split('-')[1]\n",
        "    if element == '+':\n",
        "      df['min_age'][i] = df['Age'][i].split('+')[0]\n",
        "      df['max_age'][i] = 100"
      ],
      "execution_count": 46,
      "outputs": []
    },
    {
      "cell_type": "code",
      "metadata": {
        "colab": {
          "base_uri": "https://localhost:8080/",
          "height": 422
        },
        "id": "IZOJf7MXsb-A",
        "outputId": "0671207d-63d6-448a-c17d-55368b467018"
      },
      "source": [
        "# displaying age, min_age and max_age columns to check the feature extraction\n",
        "df[['Age', 'min_age', 'max_age']]"
      ],
      "execution_count": 48,
      "outputs": [
        {
          "output_type": "execute_result",
          "data": {
            "text/html": [
              "<div>\n",
              "<style scoped>\n",
              "    .dataframe tbody tr th:only-of-type {\n",
              "        vertical-align: middle;\n",
              "    }\n",
              "\n",
              "    .dataframe tbody tr th {\n",
              "        vertical-align: top;\n",
              "    }\n",
              "\n",
              "    .dataframe thead th {\n",
              "        text-align: right;\n",
              "    }\n",
              "</style>\n",
              "<table border=\"1\" class=\"dataframe\">\n",
              "  <thead>\n",
              "    <tr style=\"text-align: right;\">\n",
              "      <th></th>\n",
              "      <th>Age</th>\n",
              "      <th>min_age</th>\n",
              "      <th>max_age</th>\n",
              "    </tr>\n",
              "  </thead>\n",
              "  <tbody>\n",
              "    <tr>\n",
              "      <th>0</th>\n",
              "      <td>0-17</td>\n",
              "      <td>0</td>\n",
              "      <td>17</td>\n",
              "    </tr>\n",
              "    <tr>\n",
              "      <th>1</th>\n",
              "      <td>0-17</td>\n",
              "      <td>0</td>\n",
              "      <td>17</td>\n",
              "    </tr>\n",
              "    <tr>\n",
              "      <th>2</th>\n",
              "      <td>0-17</td>\n",
              "      <td>0</td>\n",
              "      <td>17</td>\n",
              "    </tr>\n",
              "    <tr>\n",
              "      <th>3</th>\n",
              "      <td>0-17</td>\n",
              "      <td>0</td>\n",
              "      <td>17</td>\n",
              "    </tr>\n",
              "    <tr>\n",
              "      <th>4</th>\n",
              "      <td>55+</td>\n",
              "      <td>55</td>\n",
              "      <td>100</td>\n",
              "    </tr>\n",
              "    <tr>\n",
              "      <th>...</th>\n",
              "      <td>...</td>\n",
              "      <td>...</td>\n",
              "      <td>...</td>\n",
              "    </tr>\n",
              "    <tr>\n",
              "      <th>550063</th>\n",
              "      <td>51-55</td>\n",
              "      <td>51</td>\n",
              "      <td>55</td>\n",
              "    </tr>\n",
              "    <tr>\n",
              "      <th>550064</th>\n",
              "      <td>26-35</td>\n",
              "      <td>26</td>\n",
              "      <td>35</td>\n",
              "    </tr>\n",
              "    <tr>\n",
              "      <th>550065</th>\n",
              "      <td>26-35</td>\n",
              "      <td>26</td>\n",
              "      <td>35</td>\n",
              "    </tr>\n",
              "    <tr>\n",
              "      <th>550066</th>\n",
              "      <td>55+</td>\n",
              "      <td>55</td>\n",
              "      <td>100</td>\n",
              "    </tr>\n",
              "    <tr>\n",
              "      <th>550067</th>\n",
              "      <td>46-50</td>\n",
              "      <td>46</td>\n",
              "      <td>50</td>\n",
              "    </tr>\n",
              "  </tbody>\n",
              "</table>\n",
              "<p>550068 rows × 3 columns</p>\n",
              "</div>"
            ],
            "text/plain": [
              "          Age  min_age  max_age\n",
              "0        0-17        0       17\n",
              "1        0-17        0       17\n",
              "2        0-17        0       17\n",
              "3        0-17        0       17\n",
              "4         55+       55      100\n",
              "...       ...      ...      ...\n",
              "550063  51-55       51       55\n",
              "550064  26-35       26       35\n",
              "550065  26-35       26       35\n",
              "550066    55+       55      100\n",
              "550067  46-50       46       50\n",
              "\n",
              "[550068 rows x 3 columns]"
            ]
          },
          "metadata": {},
          "execution_count": 48
        }
      ]
    },
    {
      "cell_type": "code",
      "metadata": {
        "colab": {
          "base_uri": "https://localhost:8080/",
          "height": 0
        },
        "id": "xsH2MvYP5wPc",
        "outputId": "6b0cd01f-93b9-43d2-88f6-9971e8bcdcf4"
      },
      "source": [
        "df.dtypes"
      ],
      "execution_count": 49,
      "outputs": [
        {
          "output_type": "execute_result",
          "data": {
            "text/plain": [
              "User_ID                         int64\n",
              "Product_ID                     object\n",
              "Gender                         object\n",
              "Age                            object\n",
              "Occupation                      int64\n",
              "City_Category                  object\n",
              "Stay_In_Current_City_Years     object\n",
              "Marital_Status                  int64\n",
              "Product_Category_1              int64\n",
              "Product_Category_2            float64\n",
              "Product_Category_3            float64\n",
              "Purchase                        int64\n",
              "Product_ID_feature              int64\n",
              "Gender_encoded                  int64\n",
              "min_age                         int64\n",
              "max_age                         int64\n",
              "dtype: object"
            ]
          },
          "metadata": {},
          "execution_count": 49
        }
      ]
    },
    {
      "cell_type": "markdown",
      "metadata": {
        "id": "rqcSWGMQ48pI"
      },
      "source": [
        "mapping for Stay_In_Current_City_Years"
      ]
    },
    {
      "cell_type": "code",
      "metadata": {
        "colab": {
          "base_uri": "https://localhost:8080/",
          "height": 0
        },
        "id": "lkw8FmBh7dqP",
        "outputId": "3df5b74b-dcf6-4e9a-eed3-8768bc3ff4e2"
      },
      "source": [
        "df['Stay_In_Current_City_Years'].value_counts()"
      ],
      "execution_count": 50,
      "outputs": [
        {
          "output_type": "execute_result",
          "data": {
            "text/plain": [
              "1     193821\n",
              "2     101838\n",
              "3      95285\n",
              "4+     84726\n",
              "0      74398\n",
              "Name: Stay_In_Current_City_Years, dtype: int64"
            ]
          },
          "metadata": {},
          "execution_count": 50
        }
      ]
    },
    {
      "cell_type": "code",
      "metadata": {
        "id": "qaUtuhcZ72iL"
      },
      "source": [
        "df['Stay_In_Current_City_Years_encoded'] = df['Stay_In_Current_City_Years'].map({'0': 0,\n",
        "                                                                                 '1': 1,\n",
        "                                                                                 '2': 2,\n",
        "                                                                                 '3': 3,\n",
        "                                                                                 '4+': 4\n",
        "                                                                                 })"
      ],
      "execution_count": 51,
      "outputs": []
    },
    {
      "cell_type": "code",
      "metadata": {
        "colab": {
          "base_uri": "https://localhost:8080/",
          "height": 205
        },
        "id": "oSnUZLow8_C8",
        "outputId": "49991607-c0b1-41d7-9d24-ffe45b59e527"
      },
      "source": [
        "df[['Stay_In_Current_City_Years', 'Stay_In_Current_City_Years_encoded']].head()"
      ],
      "execution_count": 52,
      "outputs": [
        {
          "output_type": "execute_result",
          "data": {
            "text/html": [
              "<div>\n",
              "<style scoped>\n",
              "    .dataframe tbody tr th:only-of-type {\n",
              "        vertical-align: middle;\n",
              "    }\n",
              "\n",
              "    .dataframe tbody tr th {\n",
              "        vertical-align: top;\n",
              "    }\n",
              "\n",
              "    .dataframe thead th {\n",
              "        text-align: right;\n",
              "    }\n",
              "</style>\n",
              "<table border=\"1\" class=\"dataframe\">\n",
              "  <thead>\n",
              "    <tr style=\"text-align: right;\">\n",
              "      <th></th>\n",
              "      <th>Stay_In_Current_City_Years</th>\n",
              "      <th>Stay_In_Current_City_Years_encoded</th>\n",
              "    </tr>\n",
              "  </thead>\n",
              "  <tbody>\n",
              "    <tr>\n",
              "      <th>0</th>\n",
              "      <td>2</td>\n",
              "      <td>2</td>\n",
              "    </tr>\n",
              "    <tr>\n",
              "      <th>1</th>\n",
              "      <td>2</td>\n",
              "      <td>2</td>\n",
              "    </tr>\n",
              "    <tr>\n",
              "      <th>2</th>\n",
              "      <td>2</td>\n",
              "      <td>2</td>\n",
              "    </tr>\n",
              "    <tr>\n",
              "      <th>3</th>\n",
              "      <td>2</td>\n",
              "      <td>2</td>\n",
              "    </tr>\n",
              "    <tr>\n",
              "      <th>4</th>\n",
              "      <td>4+</td>\n",
              "      <td>4</td>\n",
              "    </tr>\n",
              "  </tbody>\n",
              "</table>\n",
              "</div>"
            ],
            "text/plain": [
              "  Stay_In_Current_City_Years  Stay_In_Current_City_Years_encoded\n",
              "0                          2                                   2\n",
              "1                          2                                   2\n",
              "2                          2                                   2\n",
              "3                          2                                   2\n",
              "4                         4+                                   4"
            ]
          },
          "metadata": {},
          "execution_count": 52
        }
      ]
    },
    {
      "cell_type": "markdown",
      "metadata": {
        "id": "ek-_6_Lo9loj"
      },
      "source": [
        "One hot encoding for City_Category"
      ]
    },
    {
      "cell_type": "code",
      "metadata": {
        "colab": {
          "base_uri": "https://localhost:8080/",
          "height": 0
        },
        "id": "UIAHr_kn7X6u",
        "outputId": "628b4a37-0adc-4fc3-ef6f-dac2d1828e51"
      },
      "source": [
        "df['City_Category'].value_counts()"
      ],
      "execution_count": 53,
      "outputs": [
        {
          "output_type": "execute_result",
          "data": {
            "text/plain": [
              "B    231173\n",
              "C    171175\n",
              "A    147720\n",
              "Name: City_Category, dtype: int64"
            ]
          },
          "metadata": {},
          "execution_count": 53
        }
      ]
    },
    {
      "cell_type": "code",
      "metadata": {
        "id": "ThtQJyt15CX-"
      },
      "source": [
        "df_City_category = pd.get_dummies(df['City_Category'])\n",
        "df1 = pd.concat([df, df_City_category], axis=1, join=\"inner\")"
      ],
      "execution_count": 54,
      "outputs": []
    },
    {
      "cell_type": "code",
      "metadata": {
        "colab": {
          "base_uri": "https://localhost:8080/",
          "height": 295
        },
        "id": "qaGR302r5mYy",
        "outputId": "6aba43e7-4831-42d0-e280-c6a7110b2be9"
      },
      "source": [
        "df1.head()"
      ],
      "execution_count": 55,
      "outputs": [
        {
          "output_type": "execute_result",
          "data": {
            "text/html": [
              "<div>\n",
              "<style scoped>\n",
              "    .dataframe tbody tr th:only-of-type {\n",
              "        vertical-align: middle;\n",
              "    }\n",
              "\n",
              "    .dataframe tbody tr th {\n",
              "        vertical-align: top;\n",
              "    }\n",
              "\n",
              "    .dataframe thead th {\n",
              "        text-align: right;\n",
              "    }\n",
              "</style>\n",
              "<table border=\"1\" class=\"dataframe\">\n",
              "  <thead>\n",
              "    <tr style=\"text-align: right;\">\n",
              "      <th></th>\n",
              "      <th>User_ID</th>\n",
              "      <th>Product_ID</th>\n",
              "      <th>Gender</th>\n",
              "      <th>Age</th>\n",
              "      <th>Occupation</th>\n",
              "      <th>City_Category</th>\n",
              "      <th>Stay_In_Current_City_Years</th>\n",
              "      <th>Marital_Status</th>\n",
              "      <th>Product_Category_1</th>\n",
              "      <th>Product_Category_2</th>\n",
              "      <th>Product_Category_3</th>\n",
              "      <th>Purchase</th>\n",
              "      <th>Product_ID_feature</th>\n",
              "      <th>Gender_encoded</th>\n",
              "      <th>min_age</th>\n",
              "      <th>max_age</th>\n",
              "      <th>Stay_In_Current_City_Years_encoded</th>\n",
              "      <th>A</th>\n",
              "      <th>B</th>\n",
              "      <th>C</th>\n",
              "    </tr>\n",
              "  </thead>\n",
              "  <tbody>\n",
              "    <tr>\n",
              "      <th>0</th>\n",
              "      <td>1000001</td>\n",
              "      <td>P00069042</td>\n",
              "      <td>F</td>\n",
              "      <td>0-17</td>\n",
              "      <td>10</td>\n",
              "      <td>A</td>\n",
              "      <td>2</td>\n",
              "      <td>0</td>\n",
              "      <td>3</td>\n",
              "      <td>9.0</td>\n",
              "      <td>14.0</td>\n",
              "      <td>8370</td>\n",
              "      <td>69042</td>\n",
              "      <td>0</td>\n",
              "      <td>0</td>\n",
              "      <td>17</td>\n",
              "      <td>2</td>\n",
              "      <td>1</td>\n",
              "      <td>0</td>\n",
              "      <td>0</td>\n",
              "    </tr>\n",
              "    <tr>\n",
              "      <th>1</th>\n",
              "      <td>1000001</td>\n",
              "      <td>P00248942</td>\n",
              "      <td>F</td>\n",
              "      <td>0-17</td>\n",
              "      <td>10</td>\n",
              "      <td>A</td>\n",
              "      <td>2</td>\n",
              "      <td>0</td>\n",
              "      <td>1</td>\n",
              "      <td>6.0</td>\n",
              "      <td>14.0</td>\n",
              "      <td>15200</td>\n",
              "      <td>248942</td>\n",
              "      <td>0</td>\n",
              "      <td>0</td>\n",
              "      <td>17</td>\n",
              "      <td>2</td>\n",
              "      <td>1</td>\n",
              "      <td>0</td>\n",
              "      <td>0</td>\n",
              "    </tr>\n",
              "    <tr>\n",
              "      <th>2</th>\n",
              "      <td>1000001</td>\n",
              "      <td>P00087842</td>\n",
              "      <td>F</td>\n",
              "      <td>0-17</td>\n",
              "      <td>10</td>\n",
              "      <td>A</td>\n",
              "      <td>2</td>\n",
              "      <td>0</td>\n",
              "      <td>12</td>\n",
              "      <td>9.0</td>\n",
              "      <td>14.0</td>\n",
              "      <td>1422</td>\n",
              "      <td>87842</td>\n",
              "      <td>0</td>\n",
              "      <td>0</td>\n",
              "      <td>17</td>\n",
              "      <td>2</td>\n",
              "      <td>1</td>\n",
              "      <td>0</td>\n",
              "      <td>0</td>\n",
              "    </tr>\n",
              "    <tr>\n",
              "      <th>3</th>\n",
              "      <td>1000001</td>\n",
              "      <td>P00085442</td>\n",
              "      <td>F</td>\n",
              "      <td>0-17</td>\n",
              "      <td>10</td>\n",
              "      <td>A</td>\n",
              "      <td>2</td>\n",
              "      <td>0</td>\n",
              "      <td>12</td>\n",
              "      <td>14.0</td>\n",
              "      <td>14.0</td>\n",
              "      <td>1057</td>\n",
              "      <td>85442</td>\n",
              "      <td>0</td>\n",
              "      <td>0</td>\n",
              "      <td>17</td>\n",
              "      <td>2</td>\n",
              "      <td>1</td>\n",
              "      <td>0</td>\n",
              "      <td>0</td>\n",
              "    </tr>\n",
              "    <tr>\n",
              "      <th>4</th>\n",
              "      <td>1000002</td>\n",
              "      <td>P00285442</td>\n",
              "      <td>M</td>\n",
              "      <td>55+</td>\n",
              "      <td>16</td>\n",
              "      <td>C</td>\n",
              "      <td>4+</td>\n",
              "      <td>0</td>\n",
              "      <td>8</td>\n",
              "      <td>9.0</td>\n",
              "      <td>14.0</td>\n",
              "      <td>7969</td>\n",
              "      <td>285442</td>\n",
              "      <td>1</td>\n",
              "      <td>55</td>\n",
              "      <td>100</td>\n",
              "      <td>4</td>\n",
              "      <td>0</td>\n",
              "      <td>0</td>\n",
              "      <td>1</td>\n",
              "    </tr>\n",
              "  </tbody>\n",
              "</table>\n",
              "</div>"
            ],
            "text/plain": [
              "   User_ID Product_ID Gender   Age  ...  Stay_In_Current_City_Years_encoded  A  B  C\n",
              "0  1000001  P00069042      F  0-17  ...                                   2  1  0  0\n",
              "1  1000001  P00248942      F  0-17  ...                                   2  1  0  0\n",
              "2  1000001  P00087842      F  0-17  ...                                   2  1  0  0\n",
              "3  1000001  P00085442      F  0-17  ...                                   2  1  0  0\n",
              "4  1000002  P00285442      M   55+  ...                                   4  0  0  1\n",
              "\n",
              "[5 rows x 20 columns]"
            ]
          },
          "metadata": {},
          "execution_count": 55
        }
      ]
    },
    {
      "cell_type": "markdown",
      "metadata": {
        "id": "cIigdkiXPjC7"
      },
      "source": [
        "### Standardisation"
      ]
    },
    {
      "cell_type": "markdown",
      "metadata": {
        "id": "LiRVBxEe-d78"
      },
      "source": [
        "Dropping the columns that are already encoded and no more needed"
      ]
    },
    {
      "cell_type": "code",
      "metadata": {
        "id": "sY948qBf-lft"
      },
      "source": [
        "df2 = df1.drop(columns=['Product_ID', 'Gender', 'Age', 'City_Category', 'Stay_In_Current_City_Years'], \n",
        "               axis=1)"
      ],
      "execution_count": 89,
      "outputs": []
    },
    {
      "cell_type": "code",
      "metadata": {
        "id": "VIj7tzDxPlnH"
      },
      "source": [
        "# Standardise the data\n",
        "scaler = StandardScaler()\n",
        "\n",
        "df_scaled = scaler.fit_transform(df2)\n",
        "df3 = pd.DataFrame(df_scaled, columns=df2.columns)"
      ],
      "execution_count": 94,
      "outputs": []
    },
    {
      "cell_type": "markdown",
      "metadata": {
        "id": "jbX5f8pak1X5"
      },
      "source": [
        "###**Check the correlation matrix and identify most correlated features.**"
      ]
    },
    {
      "cell_type": "code",
      "metadata": {
        "colab": {
          "base_uri": "https://localhost:8080/",
          "height": 768
        },
        "id": "QaYs-raukxeg",
        "outputId": "588b3d8f-76c4-4162-ff54-b1f22a648399"
      },
      "source": [
        "# plotting the correlation matrix\n",
        "\n",
        "plt.figure(figsize=(14, 10))\n",
        "correlation_matrix = df3.corr()\n",
        "\n",
        "ax = sns.heatmap(correlation_matrix, annot=True)"
      ],
      "execution_count": 95,
      "outputs": [
        {
          "output_type": "display_data",
          "data": {
            "image/png": "[encoded data removed]",
            "text/plain": [
              "<Figure size 1008x720 with 2 Axes>"
            ]
          },
          "metadata": {
            "needs_background": "light"
          }
        }
      ]
    },
    {
      "cell_type": "markdown",
      "metadata": {
        "id": "pz74e3NAnXBL"
      },
      "source": [
        "As per the correlation matrix above,\n",
        "\n",
        "1. Product_Category_2 is very much correlated with Product_Category_1 and Product_Category_3\n",
        "\n",
        "2. min_age and max_age are highly correlated with each other\n",
        "\n",
        "3. City_Category A, B and C are very much correlated with each other"
      ]
    },
    {
      "cell_type": "markdown",
      "metadata": {
        "id": "N51368runQKh"
      },
      "source": [
        "###**Find out the Covariance Matrix? Also Identify eigen values and eigen vectors of covariance matrix.**"
      ]
    },
    {
      "cell_type": "code",
      "metadata": {
        "colab": {
          "base_uri": "https://localhost:8080/",
          "height": 0
        },
        "id": "ptiKbj8jE2Gn",
        "outputId": "3b8d2b5b-9957-41cd-e406-84fabb720500"
      },
      "source": [
        "df3.dtypes"
      ],
      "execution_count": 96,
      "outputs": [
        {
          "output_type": "execute_result",
          "data": {
            "text/plain": [
              "User_ID                               float64\n",
              "Occupation                            float64\n",
              "Marital_Status                        float64\n",
              "Product_Category_1                    float64\n",
              "Product_Category_2                    float64\n",
              "Product_Category_3                    float64\n",
              "Purchase                              float64\n",
              "Product_ID_feature                    float64\n",
              "Gender_encoded                        float64\n",
              "min_age                               float64\n",
              "max_age                               float64\n",
              "Stay_In_Current_City_Years_encoded    float64\n",
              "A                                     float64\n",
              "B                                     float64\n",
              "C                                     float64\n",
              "dtype: object"
            ]
          },
          "metadata": {},
          "execution_count": 96
        }
      ]
    },
    {
      "cell_type": "code",
      "metadata": {
        "colab": {
          "base_uri": "https://localhost:8080/",
          "height": 0
        },
        "id": "836_nqg3JxxM",
        "outputId": "e706ab2b-49a6-4e70-8b72-3d5fa8d6a1e2"
      },
      "source": [
        "df3.columns"
      ],
      "execution_count": 97,
      "outputs": [
        {
          "output_type": "execute_result",
          "data": {
            "text/plain": [
              "Index(['User_ID', 'Occupation', 'Marital_Status', 'Product_Category_1',\n",
              "       'Product_Category_2', 'Product_Category_3', 'Purchase',\n",
              "       'Product_ID_feature', 'Gender_encoded', 'min_age', 'max_age',\n",
              "       'Stay_In_Current_City_Years_encoded', 'A', 'B', 'C'],\n",
              "      dtype='object')"
            ]
          },
          "metadata": {},
          "execution_count": 97
        }
      ]
    },
    {
      "cell_type": "code",
      "metadata": {
        "id": "0Rphp0LWEzls"
      },
      "source": [
        "int_columns = df3[['User_ID', 'Occupation', 'Marital_Status', 'Product_Category_1', 'Purchase',\n",
        "       'Product_ID_feature', 'Gender_encoded', 'min_age', 'max_age',\n",
        "       'Stay_In_Current_City_Years_encoded']].astype('int16')\n",
        "\n",
        "float_columns = df3[['Product_Category_2', 'Product_Category_3']].astype('float16')\n",
        "\n",
        "unit_columns = df3[['A', 'B', 'C']]\n",
        "\n",
        "df4 = pd.concat([int_columns, float_columns, unit_columns], axis=1, join=\"inner\")"
      ],
      "execution_count": 98,
      "outputs": []
    },
    {
      "cell_type": "code",
      "metadata": {
        "colab": {
          "base_uri": "https://localhost:8080/",
          "height": 0
        },
        "id": "VPmCrkd_KlC3",
        "outputId": "70fac225-5a6d-4943-a8c4-1a6898f8fcf4"
      },
      "source": [
        "df4.dtypes"
      ],
      "execution_count": 99,
      "outputs": [
        {
          "output_type": "execute_result",
          "data": {
            "text/plain": [
              "User_ID                                 int16\n",
              "Occupation                              int16\n",
              "Marital_Status                          int16\n",
              "Product_Category_1                      int16\n",
              "Purchase                                int16\n",
              "Product_ID_feature                      int16\n",
              "Gender_encoded                          int16\n",
              "min_age                                 int16\n",
              "max_age                                 int16\n",
              "Stay_In_Current_City_Years_encoded      int16\n",
              "Product_Category_2                    float16\n",
              "Product_Category_3                    float16\n",
              "A                                     float64\n",
              "B                                     float64\n",
              "C                                     float64\n",
              "dtype: object"
            ]
          },
          "metadata": {},
          "execution_count": 99
        }
      ]
    },
    {
      "cell_type": "code",
      "metadata": {
        "colab": {
          "base_uri": "https://localhost:8080/",
          "height": 0
        },
        "id": "r4u88cmsLeNu",
        "outputId": "122e9062-4025-486d-cb9d-84196dfdeb3f"
      },
      "source": [
        "# calculating the covariance matrix\n",
        "\n",
        "df_array = np.array(df4)\n",
        "\n",
        "covariance_matrix = np.cov(df_array.T)\n",
        "\n",
        "print(\"covariance Matrix: \\n\", covariance_matrix)"
      ],
      "execution_count": 100,
      "outputs": [
        {
          "output_type": "stream",
          "name": "stdout",
          "text": [
            "covariance Matrix: \n",
            " [[ 4.18408749e-01 -9.46400551e-03  9.17854331e-03  2.16542296e-03\n",
            "   1.64637455e-03 -3.72441387e-03 -1.13322058e-02  1.83299476e-02\n",
            "   2.48643748e-03 -2.74472594e-03  3.06325540e-04 -5.47798872e-04\n",
            "  -2.83782478e-02  2.07173990e-02  5.07849164e-03]\n",
            " [-9.46400551e-03  4.42010634e-01  3.04651300e-04 -3.58073814e-03\n",
            "   8.22810948e-03  2.61752061e-03  3.06754587e-02  7.11585261e-03\n",
            "   2.76730041e-03  5.56298254e-03 -2.14439991e-03  1.48911424e-03\n",
            "  -9.67649225e-04 -4.70549244e-03  5.94302831e-03]\n",
            " [ 9.17854331e-03  3.04651300e-04  2.41837857e-01  5.58148333e-03\n",
            "  -4.81070884e-04  5.58796248e-03 -2.46049537e-03  1.23414455e-01\n",
            "   3.74900618e-02  5.91026068e-04  5.66879533e-03  6.24840546e-03\n",
            "  -1.62718071e-02 -9.16014002e-04  1.65533862e-02]\n",
            " [ 2.16542296e-03 -3.58073814e-03  5.58148333e-03  5.71333256e-01\n",
            "  -1.57594919e-01  5.36074259e-02 -1.39316977e-02  2.12202800e-02\n",
            "   9.86838239e-03 -5.56151125e-04  1.68318405e-01  8.18316356e-02\n",
            "   7.98533837e-03 -2.36635209e-03 -5.12139883e-03]\n",
            " [ 1.64637455e-03  8.22810948e-03 -4.81070884e-04 -1.57594919e-01\n",
            "   4.96663335e-01 -2.93339025e-02  1.56113765e-02  9.15727898e-03\n",
            "   2.88052208e-03  1.83885792e-03 -6.52559001e-02 -2.80404319e-02\n",
            "  -2.75131876e-02 -1.22306471e-02  3.93775874e-02]\n",
            " [-3.72441387e-03  2.61752061e-03  5.58796248e-03  5.36074259e-02\n",
            "  -2.93339025e-02  3.96466562e-01  4.14501916e-03  2.02284635e-02\n",
            "   8.50506687e-03 -1.09789576e-03  8.64296218e-03  3.88004661e-02\n",
            "  -3.23482883e-03 -6.15375630e-03  9.65742065e-03]\n",
            " [-1.13322058e-02  3.06754587e-02 -2.46049537e-03 -1.39316977e-02\n",
            "   1.56113765e-02  4.14501916e-03  1.85938161e-01  1.59933400e-03\n",
            "   3.69605604e-03  1.84873994e-03 -6.06337814e-03  2.53832371e-03\n",
            "   3.14743050e-03 -2.65385765e-03 -1.83612049e-04]\n",
            " [ 1.83299476e-02  7.11585261e-03  1.23414455e-01  2.12202800e-02\n",
            "   9.15727898e-03  2.02284635e-02  1.59933400e-03  6.00423575e-01\n",
            "   2.89903587e-01  9.69669355e-03  3.41803749e-02  2.79604893e-02\n",
            "  -4.53594191e-02 -1.66865408e-02  6.12121543e-02]\n",
            " [ 2.48643748e-03  2.76730041e-03  3.74900618e-02  9.86838239e-03\n",
            "   2.88052208e-03  8.50506687e-03  3.69605604e-03  2.89903587e-01\n",
            "   3.71227021e-01  3.60916895e-03  1.42301080e-02  1.19958227e-02\n",
            "  -2.08947923e-02 -3.94609094e-02  6.20731369e-02]\n",
            " [-2.74472594e-03  5.56298254e-03  5.91026068e-04 -5.56151125e-04\n",
            "   1.83885792e-03 -1.09789576e-03  1.84873994e-03  9.69669355e-03\n",
            "   3.60916895e-03  2.88928590e-01  1.30406842e-03  1.24111322e-03\n",
            "  -1.90021270e-02  5.82854008e-03  1.19764516e-02]\n",
            " [ 3.06325540e-04 -2.14439991e-03  5.66879533e-03  1.68318405e-01\n",
            "  -6.52559001e-02  8.64296218e-03 -6.06337814e-03  3.41803749e-02\n",
            "   1.42301080e-02  1.30406842e-03  9.99939244e-01  4.16702141e-01\n",
            "   7.36705446e-03 -2.61667312e-03 -4.26264666e-03]\n",
            " [-5.47798872e-04  1.48911424e-03  6.24840546e-03  8.18316356e-02\n",
            "  -2.80404319e-02  3.88004661e-02  2.53832371e-03  2.79604893e-02\n",
            "   1.19958227e-02  1.24111322e-03  4.16702141e-01  1.00015077e+00\n",
            "   8.40543894e-03  2.31436901e-03 -1.05138563e-02]\n",
            " [-2.83782478e-02 -9.67649225e-04 -1.62718071e-02  7.98533837e-03\n",
            "  -2.75131876e-02 -3.23482883e-03  3.14743050e-03 -4.53594191e-02\n",
            "  -2.08947923e-02 -1.90021270e-02  7.36705446e-03  8.40543894e-03\n",
            "   1.00000182e+00 -5.15898441e-01 -4.07269036e-01]\n",
            " [ 2.07173990e-02 -4.70549244e-03 -9.16014002e-04 -2.36635209e-03\n",
            "  -1.22306471e-02 -6.15375630e-03 -2.65385765e-03 -1.66865408e-02\n",
            "  -3.94609094e-02  5.82854008e-03 -2.61667312e-03  2.31436901e-03\n",
            "  -5.15898441e-01  1.00000182e+00 -5.72278416e-01]\n",
            " [ 5.07849164e-03  5.94302831e-03  1.65533862e-02 -5.12139883e-03\n",
            "   3.93775874e-02  9.65742065e-03 -1.83612049e-04  6.12121543e-02\n",
            "   6.20731369e-02  1.19764516e-02 -4.26264666e-03 -1.05138563e-02\n",
            "  -4.07269036e-01 -5.72278416e-01  1.00000182e+00]]\n"
          ]
        }
      ]
    },
    {
      "cell_type": "markdown",
      "metadata": {
        "id": "wI2ZDJ3FKs8v"
      },
      "source": [
        "Eigen values and Eigen vectors"
      ]
    },
    {
      "cell_type": "code",
      "metadata": {
        "id": "-WE-IpAPktTP"
      },
      "source": [
        "# Using np.linalg.eig function\n",
        "eigen_values, eigen_vectors = np.linalg.eig(covariance_matrix)"
      ],
      "execution_count": 101,
      "outputs": []
    },
    {
      "cell_type": "code",
      "metadata": {
        "colab": {
          "base_uri": "https://localhost:8080/",
          "height": 0
        },
        "id": "Nbrc3xK7MOmx",
        "outputId": "79309f8a-b52a-4aaf-9b12-f703e1dc2052"
      },
      "source": [
        "print(\"Eigenvector: \\n\",eigen_vectors,\"\\n\")"
      ],
      "execution_count": 102,
      "outputs": [
        {
          "output_type": "stream",
          "name": "stdout",
          "text": [
            "Eigenvector: \n",
            " [[-1.67970502e-02  5.81541557e-03  3.05322631e-02  3.88352121e-02\n",
            "  -3.11666971e-03  7.07854177e-03  1.45431911e-02  4.02539307e-02\n",
            "  -4.99824694e-02  2.61376185e-02 -3.30130047e-01  9.34977524e-01\n",
            "  -6.53553719e-02 -6.87777529e-02 -4.15929398e-17]\n",
            " [ 6.62312477e-03  2.61341046e-03  4.36800983e-03  1.59164775e-02\n",
            "   3.64271910e-02  8.43178262e-03  8.93238962e-03 -1.12410393e-01\n",
            "   7.11723412e-03 -3.48150128e-02  9.28644523e-01  3.37857361e-01\n",
            "  -2.41112049e-02  8.47976060e-02 -3.39170663e-16]\n",
            " [ 1.04896001e-02 -7.53119000e-03  3.72470612e-02  2.03719310e-01\n",
            "   1.20414399e-02 -4.54496363e-03  4.91762338e-01  5.90967968e-02\n",
            "   8.42889291e-01 -1.38265118e-02 -1.65691966e-02  1.96229583e-02\n",
            "  -1.09447906e-02  4.81165224e-03 -1.28628950e-15]\n",
            " [-7.12283671e-05 -2.10802222e-01  4.07587523e-02  5.56292172e-02\n",
            "  -6.55464331e-01 -2.75348655e-01  7.71910583e-03  2.27616594e-02\n",
            "  -6.12510088e-03 -2.41247572e-03  4.80684622e-02  4.38211455e-02\n",
            "   6.36450040e-01 -1.88243522e-01  2.83929466e-16]\n",
            " [ 2.20448593e-02  1.09812235e-01  2.16652204e-02 -1.15091324e-02\n",
            "   5.31087652e-01  3.35162283e-01  1.83288661e-02 -3.72600093e-02\n",
            "  -7.69029704e-04 -3.89311301e-03  2.76550822e-02  1.27259728e-02\n",
            "   5.75747411e-01 -5.08245774e-01  3.52431513e-16]\n",
            " [ 8.50560954e-03 -4.16472274e-02  1.94066630e-02  4.71417384e-02\n",
            "  -1.08398558e-01 -2.44580798e-01  1.36577637e-02 -2.69325972e-02\n",
            "  -1.66281424e-02  1.63837479e-02  8.89472032e-02 -6.39521551e-02\n",
            "  -4.81834229e-01 -8.23651418e-01  9.81108485e-17]\n",
            " [ 2.72161583e-03  4.73451347e-03 -2.76413387e-03  3.76081931e-03\n",
            "   4.09638646e-02  7.64322271e-03 -1.85308709e-02  9.89459278e-01\n",
            "  -5.72205288e-02  5.25597920e-03  1.22361019e-01 -4.28340450e-03\n",
            "  -4.51218216e-03 -2.29377112e-02 -1.38908577e-15]\n",
            " [ 5.36986967e-02 -3.93101779e-02  1.32908324e-01  7.98827036e-01\n",
            "   6.22010104e-02  1.19970364e-02 -5.63673622e-01 -6.72977734e-03\n",
            "   1.28630161e-01 -1.95741113e-03 -8.68935442e-03 -2.12442764e-02\n",
            "  -2.73978987e-03  3.01974647e-02 -3.30776149e-16]\n",
            " [ 6.14043130e-02 -1.76453453e-02  8.59522310e-02  5.24010003e-01\n",
            "   4.04375798e-02  5.40408218e-03  6.62177348e-01 -1.96680241e-02\n",
            "  -5.16337962e-01 -2.25543413e-02 -1.66452438e-03 -5.65594924e-02\n",
            "  -5.12833672e-03  5.54271896e-02  5.83757631e-16]\n",
            " [-1.66721740e-03  3.29627639e-03  2.12933464e-02  1.22524728e-02\n",
            "   4.70007848e-03  3.55953722e-03  2.05455405e-02 -9.41277512e-03\n",
            "   2.27520645e-03  9.98335821e-01  3.89741873e-02 -1.30380164e-02\n",
            "   1.21796839e-02  1.79006918e-02 -1.85250480e-16]\n",
            " [ 2.30517660e-03 -6.74318971e-01  1.71107464e-01 -5.08984178e-02\n",
            "  -1.86511472e-01  6.73920524e-01  7.37292661e-03  3.29790934e-03\n",
            "  -5.79867175e-04 -3.18315205e-04  1.02034680e-02 -1.57075149e-02\n",
            "  -1.45858131e-01 -5.26658408e-02  5.26205592e-17]\n",
            " [-3.92895962e-03 -6.51466407e-01  1.63087037e-01 -9.02435476e-02\n",
            "   4.80597927e-01 -5.44917777e-01  1.06485636e-03 -6.64142709e-03\n",
            "  -1.49099315e-03 -1.98886594e-03 -2.25674988e-02  1.15750612e-02\n",
            "   6.78212465e-02  8.73535179e-02 -1.95604519e-18]\n",
            " [ 2.76925539e-01 -1.94270183e-01 -7.57707215e-01  9.47268295e-02\n",
            "   3.01800973e-02  1.37955030e-02 -1.19261469e-03 -2.70852223e-03\n",
            "   5.69169673e-03  1.66738850e-02 -7.61659144e-03  2.37314818e-02\n",
            "   7.78762238e-03 -1.47521627e-02  5.47866909e-01]\n",
            " [-7.75038775e-01  3.66328409e-02  1.52842614e-01  3.81363376e-02\n",
            "   5.10058073e-03  4.59568482e-03  1.17402117e-02  1.85203915e-05\n",
            "  -1.22796596e-02 -5.99578631e-03  1.06882300e-02 -1.77599127e-02\n",
            "   4.54903232e-03 -5.91314818e-03  6.10164459e-01]\n",
            " [ 5.61202103e-01  1.46916589e-01  5.62391671e-01 -1.31339401e-01\n",
            "  -3.43289412e-02 -1.81058944e-02 -1.13750266e-02  2.57308752e-03\n",
            "   7.64324095e-03 -9.56934819e-03 -4.10387886e-03 -3.78329567e-03\n",
            "  -1.23048910e-02  2.04262917e-02  5.72312138e-01]] \n",
            "\n"
          ]
        }
      ]
    },
    {
      "cell_type": "code",
      "metadata": {
        "colab": {
          "base_uri": "https://localhost:8080/",
          "height": 0
        },
        "id": "kTqhp384ML34",
        "outputId": "90d8202a-041e-4abd-ded4-aa966c8e11c7"
      },
      "source": [
        "print(\"Eigenvalues: \\n\", eigen_values, \"\\n\")"
      ],
      "execution_count": 103,
      "outputs": [
        {
          "output_type": "stream",
          "name": "stdout",
          "text": [
            "Eigenvalues: \n",
            " [1.60396005e+00 1.47196238e+00 1.41614232e+00 8.04218920e-01\n",
            " 6.93525186e-01 5.59487457e-01 1.51210610e-01 1.80675693e-01\n",
            " 2.37221159e-01 2.88069826e-01 4.49751605e-01 4.13937175e-01\n",
            " 3.58245145e-01 3.84925688e-01 1.64997563e-15] \n",
            "\n"
          ]
        }
      ]
    },
    {
      "cell_type": "markdown",
      "metadata": {
        "id": "B9nRONa7L-Jf"
      },
      "source": [
        "##**Find out the two most important Principal Components.**"
      ]
    },
    {
      "cell_type": "code",
      "metadata": {
        "id": "QNwq_TQbNjaP"
      },
      "source": [
        "# Calculating the explained variance on each of components\n",
        "variance_data = []\n",
        "for i in eigen_values:\n",
        "     variance_data.append((i/sum(eigen_values))*100)"
      ],
      "execution_count": 104,
      "outputs": []
    },
    {
      "cell_type": "code",
      "metadata": {
        "colab": {
          "base_uri": "https://localhost:8080/",
          "height": 0
        },
        "id": "B6bYSaqaOBSj",
        "outputId": "a821d3ff-23f2-49bd-98f1-fec60ed4c863"
      },
      "source": [
        "variance_data"
      ],
      "execution_count": 105,
      "outputs": [
        {
          "output_type": "execute_result",
          "data": {
            "text/plain": [
              "[17.79541495943328,\n",
              " 16.33094380360348,\n",
              " 15.711638378329132,\n",
              " 8.922547312614997,\n",
              " 7.694436334019763,\n",
              " 6.207331342484361,\n",
              " 1.6776325280053392,\n",
              " 2.0045380367306036,\n",
              " 2.6318915877211593,\n",
              " 3.196041016921411,\n",
              " 4.989847754174905,\n",
              " 4.592498304149827,\n",
              " 3.9746133486956916,\n",
              " 4.2706252931160416,\n",
              " 1.8305942859738996e-14]"
            ]
          },
          "metadata": {},
          "execution_count": 105
        }
      ]
    },
    {
      "cell_type": "markdown",
      "metadata": {
        "id": "s8UoDZmkOnZq"
      },
      "source": [
        "The two most important principal components are:\n",
        "\n",
        "1st principal component: 17.79\n",
        "2nd principal component: 16.33\n",
        "\n",
        "This means 17.79 % of the variance on the data is given by 1st principal component and 16.33 % of the variance is given by 2nd principal component"
      ]
    },
    {
      "cell_type": "markdown",
      "metadata": {
        "id": "mA396AyqRbVe"
      },
      "source": [
        "##**Select only 8 features using PCA.**"
      ]
    },
    {
      "cell_type": "code",
      "metadata": {
        "id": "kpsrXAdtOR5P"
      },
      "source": [
        "pca_df = PCA(n_components=8)\n",
        "principalComponents = pca_df.fit_transform(df4)\n",
        "\n",
        "principal_Df = pd.DataFrame(data = principalComponents\n",
        "             , columns = ['pca_feature_1', 'pca_feature_2', 'pca_feature_3', 'pca_feature_4',\n",
        "                          'pca_feature_5', 'pca_feature_6', 'pca_feature_7', 'pca_feature_8'])"
      ],
      "execution_count": 106,
      "outputs": []
    },
    {
      "cell_type": "code",
      "metadata": {
        "colab": {
          "base_uri": "https://localhost:8080/",
          "height": 205
        },
        "id": "i_3ksIKmSVkH",
        "outputId": "769bef95-5b2e-40ca-ca34-1156bf6d124f"
      },
      "source": [
        "principal_Df.head()"
      ],
      "execution_count": 107,
      "outputs": [
        {
          "output_type": "execute_result",
          "data": {
            "text/html": [
              "<div>\n",
              "<style scoped>\n",
              "    .dataframe tbody tr th:only-of-type {\n",
              "        vertical-align: middle;\n",
              "    }\n",
              "\n",
              "    .dataframe tbody tr th {\n",
              "        vertical-align: top;\n",
              "    }\n",
              "\n",
              "    .dataframe thead th {\n",
              "        text-align: right;\n",
              "    }\n",
              "</style>\n",
              "<table border=\"1\" class=\"dataframe\">\n",
              "  <thead>\n",
              "    <tr style=\"text-align: right;\">\n",
              "      <th></th>\n",
              "      <th>pca_feature_1</th>\n",
              "      <th>pca_feature_2</th>\n",
              "      <th>pca_feature_3</th>\n",
              "      <th>pca_feature_4</th>\n",
              "      <th>pca_feature_5</th>\n",
              "      <th>pca_feature_6</th>\n",
              "      <th>pca_feature_7</th>\n",
              "      <th>pca_feature_8</th>\n",
              "    </tr>\n",
              "  </thead>\n",
              "  <tbody>\n",
              "    <tr>\n",
              "      <th>0</th>\n",
              "      <td>0.563988</td>\n",
              "      <td>-0.364919</td>\n",
              "      <td>2.175520</td>\n",
              "      <td>-2.128892</td>\n",
              "      <td>-0.021847</td>\n",
              "      <td>-0.003779</td>\n",
              "      <td>-0.131944</td>\n",
              "      <td>0.706754</td>\n",
              "    </tr>\n",
              "    <tr>\n",
              "      <th>1</th>\n",
              "      <td>0.592973</td>\n",
              "      <td>0.392706</td>\n",
              "      <td>2.296666</td>\n",
              "      <td>-2.112759</td>\n",
              "      <td>1.188700</td>\n",
              "      <td>-0.116224</td>\n",
              "      <td>-0.193235</td>\n",
              "      <td>0.790652</td>\n",
              "    </tr>\n",
              "    <tr>\n",
              "      <th>2</th>\n",
              "      <td>0.550377</td>\n",
              "      <td>-0.727181</td>\n",
              "      <td>2.137020</td>\n",
              "      <td>-2.014612</td>\n",
              "      <td>-1.316797</td>\n",
              "      <td>-0.858871</td>\n",
              "      <td>-0.241305</td>\n",
              "      <td>0.739611</td>\n",
              "    </tr>\n",
              "    <tr>\n",
              "      <th>3</th>\n",
              "      <td>0.553105</td>\n",
              "      <td>-1.525054</td>\n",
              "      <td>1.934561</td>\n",
              "      <td>-2.074836</td>\n",
              "      <td>-1.537483</td>\n",
              "      <td>-0.061469</td>\n",
              "      <td>-0.253378</td>\n",
              "      <td>0.758197</td>\n",
              "    </tr>\n",
              "    <tr>\n",
              "      <th>4</th>\n",
              "      <td>1.636415</td>\n",
              "      <td>0.090267</td>\n",
              "      <td>-1.685965</td>\n",
              "      <td>2.791255</td>\n",
              "      <td>0.111758</td>\n",
              "      <td>-0.473936</td>\n",
              "      <td>-1.366724</td>\n",
              "      <td>0.887055</td>\n",
              "    </tr>\n",
              "  </tbody>\n",
              "</table>\n",
              "</div>"
            ],
            "text/plain": [
              "   pca_feature_1  pca_feature_2  ...  pca_feature_7  pca_feature_8\n",
              "0       0.563988      -0.364919  ...      -0.131944       0.706754\n",
              "1       0.592973       0.392706  ...      -0.193235       0.790652\n",
              "2       0.550377      -0.727181  ...      -0.241305       0.739611\n",
              "3       0.553105      -1.525054  ...      -0.253378       0.758197\n",
              "4       1.636415       0.090267  ...      -1.366724       0.887055\n",
              "\n",
              "[5 rows x 8 columns]"
            ]
          },
          "metadata": {},
          "execution_count": 107
        }
      ]
    },
    {
      "cell_type": "code",
      "metadata": {
        "colab": {
          "base_uri": "https://localhost:8080/",
          "height": 205
        },
        "id": "W_hjODNxSYOB",
        "outputId": "184d150c-b339-4a3b-900d-6c6575798b80"
      },
      "source": [
        "principal_Df.tail()"
      ],
      "execution_count": 108,
      "outputs": [
        {
          "output_type": "execute_result",
          "data": {
            "text/html": [
              "<div>\n",
              "<style scoped>\n",
              "    .dataframe tbody tr th:only-of-type {\n",
              "        vertical-align: middle;\n",
              "    }\n",
              "\n",
              "    .dataframe tbody tr th {\n",
              "        vertical-align: top;\n",
              "    }\n",
              "\n",
              "    .dataframe thead th {\n",
              "        text-align: right;\n",
              "    }\n",
              "</style>\n",
              "<table border=\"1\" class=\"dataframe\">\n",
              "  <thead>\n",
              "    <tr style=\"text-align: right;\">\n",
              "      <th></th>\n",
              "      <th>pca_feature_1</th>\n",
              "      <th>pca_feature_2</th>\n",
              "      <th>pca_feature_3</th>\n",
              "      <th>pca_feature_4</th>\n",
              "      <th>pca_feature_5</th>\n",
              "      <th>pca_feature_6</th>\n",
              "      <th>pca_feature_7</th>\n",
              "      <th>pca_feature_8</th>\n",
              "    </tr>\n",
              "  </thead>\n",
              "  <tbody>\n",
              "    <tr>\n",
              "      <th>550063</th>\n",
              "      <td>-1.434140</td>\n",
              "      <td>-0.804628</td>\n",
              "      <td>-0.563387</td>\n",
              "      <td>1.212960</td>\n",
              "      <td>-2.520074</td>\n",
              "      <td>-1.617315</td>\n",
              "      <td>0.116973</td>\n",
              "      <td>-0.959556</td>\n",
              "    </tr>\n",
              "    <tr>\n",
              "      <th>550064</th>\n",
              "      <td>1.274652</td>\n",
              "      <td>-0.522022</td>\n",
              "      <td>-1.296702</td>\n",
              "      <td>-0.170208</td>\n",
              "      <td>-2.756189</td>\n",
              "      <td>-1.689259</td>\n",
              "      <td>1.173238</td>\n",
              "      <td>-0.655412</td>\n",
              "    </tr>\n",
              "    <tr>\n",
              "      <th>550065</th>\n",
              "      <td>-1.485605</td>\n",
              "      <td>-0.764143</td>\n",
              "      <td>-0.458905</td>\n",
              "      <td>0.438541</td>\n",
              "      <td>-2.582111</td>\n",
              "      <td>-1.624963</td>\n",
              "      <td>-0.736974</td>\n",
              "      <td>-1.309903</td>\n",
              "    </tr>\n",
              "    <tr>\n",
              "      <th>550066</th>\n",
              "      <td>1.566262</td>\n",
              "      <td>-0.653578</td>\n",
              "      <td>-1.820375</td>\n",
              "      <td>2.999476</td>\n",
              "      <td>-2.510474</td>\n",
              "      <td>-1.649053</td>\n",
              "      <td>1.195610</td>\n",
              "      <td>-0.443245</td>\n",
              "    </tr>\n",
              "    <tr>\n",
              "      <th>550067</th>\n",
              "      <td>-1.445152</td>\n",
              "      <td>-0.808680</td>\n",
              "      <td>-0.583077</td>\n",
              "      <td>1.205535</td>\n",
              "      <td>-2.592765</td>\n",
              "      <td>-1.629830</td>\n",
              "      <td>1.129004</td>\n",
              "      <td>-0.612944</td>\n",
              "    </tr>\n",
              "  </tbody>\n",
              "</table>\n",
              "</div>"
            ],
            "text/plain": [
              "        pca_feature_1  pca_feature_2  ...  pca_feature_7  pca_feature_8\n",
              "550063      -1.434140      -0.804628  ...       0.116973      -0.959556\n",
              "550064       1.274652      -0.522022  ...       1.173238      -0.655412\n",
              "550065      -1.485605      -0.764143  ...      -0.736974      -1.309903\n",
              "550066       1.566262      -0.653578  ...       1.195610      -0.443245\n",
              "550067      -1.445152      -0.808680  ...       1.129004      -0.612944\n",
              "\n",
              "[5 rows x 8 columns]"
            ]
          },
          "metadata": {},
          "execution_count": 108
        }
      ]
    }
  ]
}